{
 "cells": [
  {
   "cell_type": "markdown",
   "id": "6dc3943a",
   "metadata": {},
   "source": [
    "# STEP 1:  Problem Statement"
   ]
  },
  {
   "cell_type": "markdown",
   "id": "c06f7be9",
   "metadata": {},
   "source": [
    "    Amongst the key drivers of business sustainability is the ability of a company to efficiently manage resources  and also continuously increase profit margin. being able to drive efficiency and productivity is a very critical part of modern conversation.\n",
    "        As a result of this, ABC Agricultural limited which has recorded a 3million dollars in the past two years critically need to reduce overhead cost and increase profit margin.\n",
    "    \n",
    "    PROPOSED SOLUTION: To build a model that will help predict the flowers breed correctly for production purposes. this solution will help ABC to reduce cost, time and resources.\n",
    "    Predict the flowers(target/output) of a flower given the flower specifications(predictor/input) "
   ]
  },
  {
   "cell_type": "markdown",
   "id": "8bbfe504",
   "metadata": {},
   "source": [
    "    Problem type - classification problem (Multiclass)"
   ]
  },
  {
   "cell_type": "markdown",
   "id": "70cef84e",
   "metadata": {},
   "source": [
    "# STEP 2: Business understanding "
   ]
  },
  {
   "cell_type": "markdown",
   "id": "a241b860",
   "metadata": {},
   "source": [
    "    - Based on the fictional problem statement, we understood that the flowers breed takes time & more human labour to classify and it alters productivity and terrible time management ...."
   ]
  },
  {
   "cell_type": "markdown",
   "id": "d7f97594",
   "metadata": {},
   "source": [
    "# STEP 3: Hypothesis Generation"
   ]
  },
  {
   "cell_type": "markdown",
   "id": "b66e130f",
   "metadata": {},
   "source": [
    "<b> Hypothesis <b>: An assumption which may be true or not (in a simple definition: think of hypothesis as a factor likely to affect or influence a problem one is trying to solve.\n",
    "\n",
    "To avoid boiling the ocean; its a good practice to generate hypothesis. but in this scenario we may not see the importance/impact of hypothesis here. Irrespective of its importance visibility’s  here or not; lets generate... <br><br>\n",
    "    <li>  The length of a flower is likely to indicate the flower breed <br>\n",
    "    <li>  The width of a flower is likely to indicate the flower breed\n",
    "        \n",
    "        hint: based on the hypothesis above, we look for fields with similar keywords (data dictionary can help better); the keywords are length & width\n",
    "    \n",
    "    Why hypothesis? In the case of 500 fields or columns; as an example, its advisable to leverage on hypothesis generated to explore what may matters towards the objective; so a data scientist dont waist time exploring what matters not"
   ]
  },
  {
   "cell_type": "markdown",
   "id": "07b9bead",
   "metadata": {},
   "source": [
    "# STEP 4: Data Gathering & Cleaning "
   ]
  },
  {
   "cell_type": "markdown",
   "id": "c14e72bc",
   "metadata": {},
   "source": [
    "    Based on your research & understanding of the business problem, We need to gather all necessary data needed for this project: to make it so simple, the data for this project has been made available as an excel file.\n",
    "<br><br>Lets read the excel file and do some cleaning.\n",
    "<br><br><b>NB: in real life; most times, you connect & read from the database directly (so, you must know SQL)<b>"
   ]
  },
  {
   "cell_type": "code",
   "execution_count": 1,
   "id": "5d40a89d",
   "metadata": {},
   "outputs": [],
   "source": [
    "#import necessary libraries needed for this project\n",
    "\n",
    "#mathematical operation (linear algebra)\n",
    "import numpy as np \n",
    "\n",
    "#data preprocessing\n",
    "import pandas as pd \n",
    "\n",
    "#data visualiaztion\n",
    "import matplotlib.pyplot as plt \n",
    "\n",
    "#advance data visualization (built on matplotib)\n",
    "import seaborn as sns \n",
    "\n",
    "#split observations/records into 2 or more Distributions\n",
    "from sklearn.model_selection import train_test_split \n",
    "\n",
    "#algorithm to learn from the input and predict the output\n",
    "from sklearn.tree import DecisionTreeClassifier\n",
    "\n",
    "#evaluation metrics 1 for classification (know the accuracy score of a model)\n",
    "from  sklearn.metrics import accuracy_score \n",
    "\n",
    "#evaluation metrics 2 for classification (know the variation of real value to predicted value of a model)\n",
    "from sklearn.metrics import confusion_matrix \n",
    "\n",
    "#save a trained model to disk\n",
    "import pickle"
   ]
  },
  {
   "cell_type": "markdown",
   "id": "6087bde1",
   "metadata": {},
   "source": [
    "#### Data Exploration"
   ]
  },
  {
   "cell_type": "code",
   "execution_count": 2,
   "id": "e9d77494",
   "metadata": {},
   "outputs": [],
   "source": [
    "\"\"\"\n",
    "To read an excel data, pandas library must be initiated or called, since pandas as been imported as pd, \n",
    "anything pandas is needed you use pd instead.\n",
    "\n",
    "pd - an acronym for pandas\n",
    "read_csv()- a function/method to read csv files\n",
    "df = a variable name that contains/store the read file. any name convention can be used.\n",
    "\n",
    "\"\"\"\n",
    "df = pd.read_csv('flower.csv')"
   ]
  },
  {
   "cell_type": "code",
   "execution_count": 3,
   "id": "52f5ebc2",
   "metadata": {},
   "outputs": [
    {
     "data": {
      "text/html": [
       "<div>\n",
       "<style scoped>\n",
       "    .dataframe tbody tr th:only-of-type {\n",
       "        vertical-align: middle;\n",
       "    }\n",
       "\n",
       "    .dataframe tbody tr th {\n",
       "        vertical-align: top;\n",
       "    }\n",
       "\n",
       "    .dataframe thead th {\n",
       "        text-align: right;\n",
       "    }\n",
       "</style>\n",
       "<table border=\"1\" class=\"dataframe\">\n",
       "  <thead>\n",
       "    <tr style=\"text-align: right;\">\n",
       "      <th></th>\n",
       "      <th>petal_length</th>\n",
       "      <th>petal_width</th>\n",
       "      <th>sepal_length</th>\n",
       "      <th>sepal_width</th>\n",
       "      <th>flower_breed</th>\n",
       "    </tr>\n",
       "  </thead>\n",
       "  <tbody>\n",
       "    <tr>\n",
       "      <th>0</th>\n",
       "      <td>3.5</td>\n",
       "      <td>2.3</td>\n",
       "      <td>7.2</td>\n",
       "      <td>5.6</td>\n",
       "      <td>Flower A</td>\n",
       "    </tr>\n",
       "    <tr>\n",
       "      <th>1</th>\n",
       "      <td>3.5</td>\n",
       "      <td>2.3</td>\n",
       "      <td>7.0</td>\n",
       "      <td>5.1</td>\n",
       "      <td>Flower A</td>\n",
       "    </tr>\n",
       "    <tr>\n",
       "      <th>2</th>\n",
       "      <td>3.4</td>\n",
       "      <td>2.3</td>\n",
       "      <td>6.8</td>\n",
       "      <td>5.3</td>\n",
       "      <td>Flower A</td>\n",
       "    </tr>\n",
       "    <tr>\n",
       "      <th>3</th>\n",
       "      <td>3.6</td>\n",
       "      <td>2.3</td>\n",
       "      <td>6.7</td>\n",
       "      <td>5.2</td>\n",
       "      <td>Flower A</td>\n",
       "    </tr>\n",
       "    <tr>\n",
       "      <th>4</th>\n",
       "      <td>3.5</td>\n",
       "      <td>2.3</td>\n",
       "      <td>7.1</td>\n",
       "      <td>5.7</td>\n",
       "      <td>Flower A</td>\n",
       "    </tr>\n",
       "  </tbody>\n",
       "</table>\n",
       "</div>"
      ],
      "text/plain": [
       "   petal_length  petal_width  sepal_length  sepal_width flower_breed\n",
       "0           3.5          2.3           7.2          5.6     Flower A\n",
       "1           3.5          2.3           7.0          5.1     Flower A\n",
       "2           3.4          2.3           6.8          5.3     Flower A\n",
       "3           3.6          2.3           6.7          5.2     Flower A\n",
       "4           3.5          2.3           7.1          5.7     Flower A"
      ]
     },
     "execution_count": 3,
     "metadata": {},
     "output_type": "execute_result"
    }
   ],
   "source": [
    "\"\"\"\n",
    "head() - print top 5 of the columns by default, to change the default value try passing an argument(a value)\n",
    "e.g try head(10) to see top 10\n",
    "\n",
    "it always good to have a quick overview of how your dataset looks like- you can use head(), tail(), sample().\n",
    "\"\"\"\n",
    "df.head()"
   ]
  },
  {
   "cell_type": "code",
   "execution_count": 4,
   "id": "3267c812",
   "metadata": {},
   "outputs": [
    {
     "data": {
      "text/plain": [
       "Index(['petal_length', 'petal_width', 'sepal_length', 'sepal_width',\n",
       "       'flower_breed'],\n",
       "      dtype='object')"
      ]
     },
     "execution_count": 4,
     "metadata": {},
     "output_type": "execute_result"
    }
   ],
   "source": [
    "#print all the columns name\n",
    "df.columns"
   ]
  },
  {
   "cell_type": "markdown",
   "id": "5f94b641",
   "metadata": {},
   "source": [
    "<b>Observation:<b><br>\n",
    "    <li>There exist 5 different unique columns in the dataset i.e 4 inputs & 1 output(Flower_Breed)\n",
    "    <li>Column names are well spelled and all are in snake case format."
   ]
  },
  {
   "cell_type": "code",
   "execution_count": 5,
   "id": "1f823c91",
   "metadata": {},
   "outputs": [
    {
     "data": {
      "text/plain": [
       "petal_length    float64\n",
       "petal_width     float64\n",
       "sepal_length    float64\n",
       "sepal_width     float64\n",
       "flower_breed     object\n",
       "dtype: object"
      ]
     },
     "execution_count": 5,
     "metadata": {},
     "output_type": "execute_result"
    }
   ],
   "source": [
    "#print all columns data types\n",
    "df.dtypes"
   ]
  },
  {
   "cell_type": "markdown",
   "id": "dc034745",
   "metadata": {},
   "source": [
    "<b>Observation:<b><br>\n",
    "    <li>all inputs are numerical (float)\n",
    "    <li>output column(flower breed) exist in an object state (i.e categorical); so we need to convert object datatypes to numerical datatypes in the Feature Engineering stage of this project.\n",
    "        Why? An algorithm learns with numerical values. "
   ]
  },
  {
   "cell_type": "code",
   "execution_count": 6,
   "id": "4fab9a0a",
   "metadata": {},
   "outputs": [
    {
     "data": {
      "text/plain": [
       "array(['Flower A', 'Flower C', 'Flower B'], dtype=object)"
      ]
     },
     "execution_count": 6,
     "metadata": {},
     "output_type": "execute_result"
    }
   ],
   "source": [
    "#check unique values of flower breed\n",
    "df['flower_breed'].unique()"
   ]
  },
  {
   "cell_type": "markdown",
   "id": "81519a44",
   "metadata": {},
   "source": [
    "<b>Observation:<b><br>\n",
    "    <li>There are 3 different (unique) flowers in the flower breed"
   ]
  },
  {
   "cell_type": "code",
   "execution_count": 7,
   "id": "d281d854",
   "metadata": {},
   "outputs": [
    {
     "data": {
      "text/plain": [
       "petal_length    0\n",
       "petal_width     0\n",
       "sepal_length    0\n",
       "sepal_width     0\n",
       "flower_breed    0\n",
       "dtype: int64"
      ]
     },
     "execution_count": 7,
     "metadata": {},
     "output_type": "execute_result"
    }
   ],
   "source": [
    "#check missing values\n",
    "df.isna().sum()"
   ]
  },
  {
   "cell_type": "markdown",
   "id": "7f0df980",
   "metadata": {},
   "source": [
    "<b>Observation:<b><br>\n",
    "    <li>There are no missing values in the dataset, since all values are 0s"
   ]
  },
  {
   "cell_type": "code",
   "execution_count": 8,
   "id": "ee88d74a",
   "metadata": {},
   "outputs": [
    {
     "data": {
      "text/html": [
       "<div>\n",
       "<style scoped>\n",
       "    .dataframe tbody tr th:only-of-type {\n",
       "        vertical-align: middle;\n",
       "    }\n",
       "\n",
       "    .dataframe tbody tr th {\n",
       "        vertical-align: top;\n",
       "    }\n",
       "\n",
       "    .dataframe thead th {\n",
       "        text-align: right;\n",
       "    }\n",
       "</style>\n",
       "<table border=\"1\" class=\"dataframe\">\n",
       "  <thead>\n",
       "    <tr style=\"text-align: right;\">\n",
       "      <th></th>\n",
       "      <th>petal_length</th>\n",
       "      <th>petal_width</th>\n",
       "      <th>sepal_length</th>\n",
       "      <th>sepal_width</th>\n",
       "    </tr>\n",
       "  </thead>\n",
       "  <tbody>\n",
       "    <tr>\n",
       "      <th>count</th>\n",
       "      <td>150.000000</td>\n",
       "      <td>150.000000</td>\n",
       "      <td>150.000000</td>\n",
       "      <td>150.000000</td>\n",
       "    </tr>\n",
       "    <tr>\n",
       "      <th>mean</th>\n",
       "      <td>5.858000</td>\n",
       "      <td>3.299333</td>\n",
       "      <td>7.943333</td>\n",
       "      <td>5.157333</td>\n",
       "    </tr>\n",
       "    <tr>\n",
       "      <th>std</th>\n",
       "      <td>1.765298</td>\n",
       "      <td>0.762238</td>\n",
       "      <td>0.828066</td>\n",
       "      <td>0.435866</td>\n",
       "    </tr>\n",
       "    <tr>\n",
       "      <th>min</th>\n",
       "      <td>3.100000</td>\n",
       "      <td>2.200000</td>\n",
       "      <td>6.400000</td>\n",
       "      <td>4.100000</td>\n",
       "    </tr>\n",
       "    <tr>\n",
       "      <th>25%</th>\n",
       "      <td>3.700000</td>\n",
       "      <td>2.400000</td>\n",
       "      <td>7.200000</td>\n",
       "      <td>4.900000</td>\n",
       "    </tr>\n",
       "    <tr>\n",
       "      <th>50%</th>\n",
       "      <td>6.450000</td>\n",
       "      <td>3.400000</td>\n",
       "      <td>7.900000</td>\n",
       "      <td>5.100000</td>\n",
       "    </tr>\n",
       "    <tr>\n",
       "      <th>75%</th>\n",
       "      <td>7.200000</td>\n",
       "      <td>3.900000</td>\n",
       "      <td>8.500000</td>\n",
       "      <td>5.400000</td>\n",
       "    </tr>\n",
       "    <tr>\n",
       "      <th>max</th>\n",
       "      <td>9.000000</td>\n",
       "      <td>4.600000</td>\n",
       "      <td>10.000000</td>\n",
       "      <td>6.500000</td>\n",
       "    </tr>\n",
       "  </tbody>\n",
       "</table>\n",
       "</div>"
      ],
      "text/plain": [
       "       petal_length  petal_width  sepal_length  sepal_width\n",
       "count    150.000000   150.000000    150.000000   150.000000\n",
       "mean       5.858000     3.299333      7.943333     5.157333\n",
       "std        1.765298     0.762238      0.828066     0.435866\n",
       "min        3.100000     2.200000      6.400000     4.100000\n",
       "25%        3.700000     2.400000      7.200000     4.900000\n",
       "50%        6.450000     3.400000      7.900000     5.100000\n",
       "75%        7.200000     3.900000      8.500000     5.400000\n",
       "max        9.000000     4.600000     10.000000     6.500000"
      ]
     },
     "execution_count": 8,
     "metadata": {},
     "output_type": "execute_result"
    }
   ],
   "source": [
    "#check statictical summary of all numerical columns\n",
    "df.describe()"
   ]
  },
  {
   "cell_type": "markdown",
   "id": "5a24448a",
   "metadata": {},
   "source": [
    "<b>Observation:<b><br>\n",
    "    <li>the min & max values of all input are in close range (no need to normalize) and,\n",
    "    <li> similarly for the output as well ranging from 0.1 - 2.5\n",
    "    <li> 25% of sepal width tells us that 75% of the distribution lies above 4.9\n",
    "    <li> 50%(median) of sepal length tells us that 50% of the distribution lies above 7.9    \n",
    "    <li> 75% of petal length tells us that 25% of the distribution lies above 7.2\n",
    "        \n",
    "<b>Note: percentile are only explain in this projects, other practical projects will explain other statistical value"
   ]
  },
  {
   "cell_type": "code",
   "execution_count": 9,
   "id": "8d82be1c",
   "metadata": {},
   "outputs": [
    {
     "name": "stdout",
     "output_type": "stream",
     "text": [
      "25 percentile counts of sepal width is 117\n",
      "50 percentile counts of sepal length is 77\n",
      "75 percentile counts of petal length is  34\n"
     ]
    }
   ],
   "source": [
    "\"To ease the understanding of percentile above, see each percentile output and map it to what it tells again\"\n",
    "\n",
    "#check 25 percentile count\n",
    "print('25 percentile counts of sepal width is', df[df['sepal_width']>=4.9]['sepal_width'].count())\n",
    "\n",
    "#check 50 percentile count\n",
    "print('50 percentile counts of sepal length is', df[df['sepal_length']>=7.9]['sepal_length'].count())\n",
    "\n",
    "#check 75 percentile count\n",
    "print('75 percentile counts of petal length is ', df[df['petal_length']>= 7.2]['petal_length'].count())"
   ]
  },
  {
   "cell_type": "markdown",
   "id": "f192c6e7",
   "metadata": {},
   "source": [
    "    Observation\n",
    "    In summary, we have completed data exploration by checking column names, missing values & statistical data description; all data are in good shape for modelling except in the case of converting object(categorical column) to numerical of which we 'll handle in the feature engineering stage. and also we cant tell yet whether the 4 inputs are enough to distinguish the flower breed(output).\n",
    "    Lets dive in EDA (Exploratory data analysis) leveraging on the hypothesis we generated to get more insights on how we can make the mapping for prediction more easier.\n",
    "    \n",
    "    The two hypothesis generated talks about the likehood of the width & length been a factor that influence a flower breed. the idea here; is to explore related columns with width & length"
   ]
  },
  {
   "cell_type": "markdown",
   "id": "d104102b",
   "metadata": {},
   "source": [
    "# STEP 5: Exploratory data analysis"
   ]
  },
  {
   "cell_type": "markdown",
   "id": "d59d8acf",
   "metadata": {},
   "source": [
    "EDA - analysing your dataset to get meaniful insight for the business.<br>\n",
    " Facts about EDA: \n",
    "        <li> It can carried out be graphically, non-grahically or both\n",
    "        <li> Its mainly classified into Univariate, Bivariate & Multivariate Analysis"
   ]
  },
  {
   "cell_type": "markdown",
   "id": "7949059e",
   "metadata": {},
   "source": [
    "## Univariate analysis  - 1 variable analysis"
   ]
  },
  {
   "cell_type": "code",
   "execution_count": 10,
   "id": "b998c285",
   "metadata": {},
   "outputs": [
    {
     "data": {
      "text/plain": [
       "Flower A    50\n",
       "Flower C    50\n",
       "Flower B    50\n",
       "Name: flower_breed, dtype: int64"
      ]
     },
     "execution_count": 10,
     "metadata": {},
     "output_type": "execute_result"
    }
   ],
   "source": [
    "#frequency/distribution of each flower breed class\n",
    "df['flower_breed'].value_counts() #non-graphical analysis (a bar chart is the graphical analysis for value_counts)"
   ]
  },
  {
   "cell_type": "markdown",
   "id": "8443ebcf",
   "metadata": {},
   "source": [
    "#### Observation - The flower breed are equally distributed "
   ]
  },
  {
   "cell_type": "code",
   "execution_count": 11,
   "id": "f2e2f9f1",
   "metadata": {},
   "outputs": [
    {
     "data": {
      "text/plain": [
       "2.3    29\n",
       "3.4    13\n",
       "3.9    12\n",
       "3.6    12\n",
       "3.5     8\n",
       "4.4     8\n",
       "3.1     7\n",
       "2.5     7\n",
       "2.4     7\n",
       "4.2     6\n",
       "4.1     6\n",
       "2.2     5\n",
       "3.3     5\n",
       "4.0     5\n",
       "3.7     4\n",
       "4.6     3\n",
       "4.3     3\n",
       "4.5     3\n",
       "3.2     3\n",
       "3.8     2\n",
       "2.7     1\n",
       "2.6     1\n",
       "Name: petal_width, dtype: int64"
      ]
     },
     "execution_count": 11,
     "metadata": {},
     "output_type": "execute_result"
    }
   ],
   "source": [
    "#frequency/distribution of each petal width values\n",
    "df['petal_width'].value_counts() #non-graphical analysis"
   ]
  },
  {
   "cell_type": "markdown",
   "id": "6887de92",
   "metadata": {},
   "source": [
    "<b>Observation<b><br>\n",
    "<li>The highest reoccuring petal width is 2.3cm with a frequency of 29x\n",
    "<li>The Lowest reoccuring petal width are 2.6cm & 2.7cm respectively occuring just ones<b>"
   ]
  },
  {
   "cell_type": "code",
   "execution_count": 12,
   "id": "9facd65f",
   "metadata": {},
   "outputs": [
    {
     "data": {
      "text/plain": [
       "Text(0, 0.5, 'Count')"
      ]
     },
     "execution_count": 12,
     "metadata": {},
     "output_type": "execute_result"
    },
    {
     "data": {
      "image/png": "[encoded data removed]",
      "text/plain": [
       "<Figure size 432x288 with 1 Axes>"
      ]
     },
     "metadata": {
      "needs_background": "light"
     },
     "output_type": "display_data"
    }
   ],
   "source": [
    "#graphical analysis\n",
    "plt.hist(df['petal_length'], bins = 20, color = \"green\")\n",
    "plt.title(\"petal_length in cm\")\n",
    "plt.xlabel(\"petal_length_cm\")\n",
    "plt.ylabel(\"Count\")"
   ]
  },
  {
   "cell_type": "code",
   "execution_count": 13,
   "id": "e233dcd1",
   "metadata": {},
   "outputs": [
    {
     "data": {
      "text/plain": [
       "3.5    13\n",
       "3.6    13\n",
       "7.2     8\n",
       "6.6     8\n",
       "3.7     7\n",
       "3.4     7\n",
       "7.7     6\n",
       "6.8     5\n",
       "7.0     5\n",
       "6.1     5\n",
       "6.3     4\n",
       "7.1     4\n",
       "6.5     4\n",
       "6.9     4\n",
       "3.8     4\n",
       "6.0     3\n",
       "6.7     3\n",
       "7.8     3\n",
       "6.2     3\n",
       "7.6     3\n",
       "8.2     3\n",
       "7.9     3\n",
       "5.4     2\n",
       "7.5     2\n",
       "8.8     2\n",
       "7.4     2\n",
       "8.0     2\n",
       "8.1     2\n",
       "3.3     2\n",
       "6.4     2\n",
       "4.0     2\n",
       "5.6     2\n",
       "7.3     2\n",
       "5.1     1\n",
       "3.2     1\n",
       "5.8     1\n",
       "5.9     1\n",
       "8.7     1\n",
       "8.4     1\n",
       "3.1     1\n",
       "9.0     1\n",
       "5.7     1\n",
       "8.5     1\n",
       "Name: petal_length, dtype: int64"
      ]
     },
     "execution_count": 13,
     "metadata": {},
     "output_type": "execute_result"
    }
   ],
   "source": [
    "#non-grahical analysis (petal length)\n",
    "df['petal_length'].value_counts()"
   ]
  },
  {
   "cell_type": "markdown",
   "id": "ffe5dd41",
   "metadata": {},
   "source": [
    "Note: both graphical & non graphical tells us the same thing. but graphical analysis speaks well about the actual value. For lab developement (use more of graphical) & for presentation purpose focus on graphical"
   ]
  },
  {
   "cell_type": "markdown",
   "id": "e0ab2a1c",
   "metadata": {},
   "source": [
    "## Cummulative distribution  fxn\n",
    " - cummulative dist. fxn.(CDF) is the probability that the random variable X will take a value less than or equal to x\n",
    " \n",
    "<b>to better understand what CDF communicate to us, lets see CDF in action<b>"
   ]
  },
  {
   "cell_type": "code",
   "execution_count": 14,
   "id": "6ab6102d",
   "metadata": {},
   "outputs": [
    {
     "name": "stderr",
     "output_type": "stream",
     "text": [
      "/Users/cowrywise/opt/anaconda3/lib/python3.9/site-packages/seaborn/axisgrid.py:337: UserWarning: The `size` parameter has been renamed to `height`; please update your code.\n",
      "  warnings.warn(msg, UserWarning)\n",
      "/Users/cowrywise/opt/anaconda3/lib/python3.9/site-packages/seaborn/distributions.py:2619: FutureWarning: `distplot` is a deprecated function and will be removed in a future version. Please adapt your code to use either `displot` (a figure-level function with similar flexibility) or `histplot` (an axes-level function for histograms).\n",
      "  warnings.warn(msg, FutureWarning)\n",
      "/Users/cowrywise/opt/anaconda3/lib/python3.9/site-packages/seaborn/distributions.py:2619: FutureWarning: `distplot` is a deprecated function and will be removed in a future version. Please adapt your code to use either `displot` (a figure-level function with similar flexibility) or `histplot` (an axes-level function for histograms).\n",
      "  warnings.warn(msg, FutureWarning)\n",
      "/Users/cowrywise/opt/anaconda3/lib/python3.9/site-packages/seaborn/distributions.py:2619: FutureWarning: `distplot` is a deprecated function and will be removed in a future version. Please adapt your code to use either `displot` (a figure-level function with similar flexibility) or `histplot` (an axes-level function for histograms).\n",
      "  warnings.warn(msg, FutureWarning)\n"
     ]
    },
    {
     "data": {
      "text/plain": [
       "<seaborn.axisgrid.FacetGrid at 0x7f8311a789d0>"
      ]
     },
     "execution_count": 14,
     "metadata": {},
     "output_type": "execute_result"
    },
    {
     "data": {
      "image/png": "[encoded data removed]",
      "text/plain": [
       "<Figure size 439x360 with 1 Axes>"
      ]
     },
     "metadata": {
      "needs_background": "light"
     },
     "output_type": "display_data"
    }
   ],
   "source": [
    "sns.FacetGrid(df, hue=\"flower_breed\", size=5).map(sns.distplot, \"petal_length\").add_legend()"
   ]
  },
  {
   "cell_type": "markdown",
   "id": "8dcc71b9",
   "metadata": {},
   "source": [
    "<b>Observation:<b>\n",
    "    <li>With petal length; we can build a simple model that can separate Flower A from B & C easily.\n",
    "    <li>Flower B & C overlaps, its so hard to separate flower B from C with petal length alone"
   ]
  },
  {
   "cell_type": "code",
   "execution_count": 15,
   "id": "37b8bdda",
   "metadata": {},
   "outputs": [
    {
     "name": "stderr",
     "output_type": "stream",
     "text": [
      "/Users/cowrywise/opt/anaconda3/lib/python3.9/site-packages/seaborn/axisgrid.py:337: UserWarning: The `size` parameter has been renamed to `height`; please update your code.\n",
      "  warnings.warn(msg, UserWarning)\n",
      "/Users/cowrywise/opt/anaconda3/lib/python3.9/site-packages/seaborn/distributions.py:2619: FutureWarning: `distplot` is a deprecated function and will be removed in a future version. Please adapt your code to use either `displot` (a figure-level function with similar flexibility) or `histplot` (an axes-level function for histograms).\n",
      "  warnings.warn(msg, FutureWarning)\n",
      "/Users/cowrywise/opt/anaconda3/lib/python3.9/site-packages/seaborn/distributions.py:2619: FutureWarning: `distplot` is a deprecated function and will be removed in a future version. Please adapt your code to use either `displot` (a figure-level function with similar flexibility) or `histplot` (an axes-level function for histograms).\n",
      "  warnings.warn(msg, FutureWarning)\n",
      "/Users/cowrywise/opt/anaconda3/lib/python3.9/site-packages/seaborn/distributions.py:2619: FutureWarning: `distplot` is a deprecated function and will be removed in a future version. Please adapt your code to use either `displot` (a figure-level function with similar flexibility) or `histplot` (an axes-level function for histograms).\n",
      "  warnings.warn(msg, FutureWarning)\n"
     ]
    },
    {
     "data": {
      "text/plain": [
       "<seaborn.axisgrid.FacetGrid at 0x7f8311c5deb0>"
      ]
     },
     "execution_count": 15,
     "metadata": {},
     "output_type": "execute_result"
    },
    {
     "data": {
      "image/png": "[encoded data removed]",
      "text/plain": [
       "<Figure size 439x360 with 1 Axes>"
      ]
     },
     "metadata": {
      "needs_background": "light"
     },
     "output_type": "display_data"
    }
   ],
   "source": [
    "sns.FacetGrid(df, hue=\"flower_breed\", size=5).map(sns.distplot, \"petal_width\").add_legend()"
   ]
  },
  {
   "cell_type": "markdown",
   "id": "9ec13da4",
   "metadata": {},
   "source": [
    "<b>Observation:<b>\n",
    "    <li>With petal width; we can also build a simple model that can separate Flower A from B & C but not as easy a \n",
    "    petal length\n",
    "    <li>Flower B & C still overlaps petal length, its so hard to separate flower B from C with petal width as well"
   ]
  },
  {
   "cell_type": "code",
   "execution_count": 16,
   "id": "f9b2f2c9",
   "metadata": {},
   "outputs": [
    {
     "name": "stderr",
     "output_type": "stream",
     "text": [
      "/Users/cowrywise/opt/anaconda3/lib/python3.9/site-packages/seaborn/axisgrid.py:337: UserWarning: The `size` parameter has been renamed to `height`; please update your code.\n",
      "  warnings.warn(msg, UserWarning)\n",
      "/Users/cowrywise/opt/anaconda3/lib/python3.9/site-packages/seaborn/distributions.py:2619: FutureWarning: `distplot` is a deprecated function and will be removed in a future version. Please adapt your code to use either `displot` (a figure-level function with similar flexibility) or `histplot` (an axes-level function for histograms).\n",
      "  warnings.warn(msg, FutureWarning)\n",
      "/Users/cowrywise/opt/anaconda3/lib/python3.9/site-packages/seaborn/distributions.py:2619: FutureWarning: `distplot` is a deprecated function and will be removed in a future version. Please adapt your code to use either `displot` (a figure-level function with similar flexibility) or `histplot` (an axes-level function for histograms).\n",
      "  warnings.warn(msg, FutureWarning)\n",
      "/Users/cowrywise/opt/anaconda3/lib/python3.9/site-packages/seaborn/distributions.py:2619: FutureWarning: `distplot` is a deprecated function and will be removed in a future version. Please adapt your code to use either `displot` (a figure-level function with similar flexibility) or `histplot` (an axes-level function for histograms).\n",
      "  warnings.warn(msg, FutureWarning)\n"
     ]
    },
    {
     "data": {
      "text/plain": [
       "<seaborn.axisgrid.FacetGrid at 0x7f8311f10eb0>"
      ]
     },
     "execution_count": 16,
     "metadata": {},
     "output_type": "execute_result"
    },
    {
     "data": {
      "image/png": "[encoded data removed]",
      "text/plain": [
       "<Figure size 439x360 with 1 Axes>"
      ]
     },
     "metadata": {
      "needs_background": "light"
     },
     "output_type": "display_data"
    }
   ],
   "source": [
    "sns.FacetGrid(df, hue=\"flower_breed\", size=5).map(sns.distplot, \"sepal_length\").add_legend()"
   ]
  },
  {
   "cell_type": "markdown",
   "id": "1dc1688b",
   "metadata": {},
   "source": [
    "<b>Observation:<b>\n",
    "    <li>With sepal length; its so hard separate the 3 classes of flower as they all overlaps each other."
   ]
  },
  {
   "cell_type": "code",
   "execution_count": 17,
   "id": "de51acc7",
   "metadata": {},
   "outputs": [
    {
     "name": "stderr",
     "output_type": "stream",
     "text": [
      "/Users/cowrywise/opt/anaconda3/lib/python3.9/site-packages/seaborn/axisgrid.py:337: UserWarning: The `size` parameter has been renamed to `height`; please update your code.\n",
      "  warnings.warn(msg, UserWarning)\n",
      "/Users/cowrywise/opt/anaconda3/lib/python3.9/site-packages/seaborn/distributions.py:2619: FutureWarning: `distplot` is a deprecated function and will be removed in a future version. Please adapt your code to use either `displot` (a figure-level function with similar flexibility) or `histplot` (an axes-level function for histograms).\n",
      "  warnings.warn(msg, FutureWarning)\n",
      "/Users/cowrywise/opt/anaconda3/lib/python3.9/site-packages/seaborn/distributions.py:2619: FutureWarning: `distplot` is a deprecated function and will be removed in a future version. Please adapt your code to use either `displot` (a figure-level function with similar flexibility) or `histplot` (an axes-level function for histograms).\n",
      "  warnings.warn(msg, FutureWarning)\n",
      "/Users/cowrywise/opt/anaconda3/lib/python3.9/site-packages/seaborn/distributions.py:2619: FutureWarning: `distplot` is a deprecated function and will be removed in a future version. Please adapt your code to use either `displot` (a figure-level function with similar flexibility) or `histplot` (an axes-level function for histograms).\n",
      "  warnings.warn(msg, FutureWarning)\n"
     ]
    },
    {
     "data": {
      "text/plain": [
       "<seaborn.axisgrid.FacetGrid at 0x7f831211b2b0>"
      ]
     },
     "execution_count": 17,
     "metadata": {},
     "output_type": "execute_result"
    },
    {
     "data": {
      "image/png": "[encoded data removed]",
      "text/plain": [
       "<Figure size 439x360 with 1 Axes>"
      ]
     },
     "metadata": {
      "needs_background": "light"
     },
     "output_type": "display_data"
    }
   ],
   "source": [
    "sns.FacetGrid(df, hue=\"flower_breed\", size=5).map(sns.distplot, \"sepal_width\").add_legend()"
   ]
  },
  {
   "cell_type": "markdown",
   "id": "1c392f58",
   "metadata": {},
   "source": [
    "<b>Observation:<b>\n",
    "    <li>With sepal width; its so much harder separate the 3 classes of flower as they all overlaps each other."
   ]
  },
  {
   "cell_type": "markdown",
   "id": "5e87e297",
   "metadata": {},
   "source": [
    "    Observation\n",
    "    In summary, from our histogram; without building a model or getting to feature importance stage, we can easily tell that petal length & width will be the best features to separate the 3 classes. lets focus more on petal length in our further analysis to tell how accurate petal length will be in predicting the 3 classes"
   ]
  },
  {
   "cell_type": "code",
   "execution_count": 18,
   "id": "2cf25b96",
   "metadata": {},
   "outputs": [
    {
     "data": {
      "text/plain": [
       "0      Flower A\n",
       "1      Flower A\n",
       "2      Flower A\n",
       "3      Flower A\n",
       "4      Flower A\n",
       "         ...   \n",
       "145    Flower B\n",
       "146    Flower B\n",
       "147    Flower B\n",
       "148    Flower B\n",
       "149    Flower B\n",
       "Name: flower_breed, Length: 150, dtype: object"
      ]
     },
     "execution_count": 18,
     "metadata": {},
     "output_type": "execute_result"
    }
   ],
   "source": [
    "df.flower_breed"
   ]
  },
  {
   "cell_type": "code",
   "execution_count": 19,
   "id": "ed1b2b8f",
   "metadata": {},
   "outputs": [],
   "source": [
    "flower_a= df.loc[df[\"flower_breed\"]== 'Flower A'];\n",
    "flower_b= df.loc[df[\"flower_breed\"]== 'Flower B'];\n",
    "flower_c= df.loc[df[\"flower_breed\"]== 'Flower C'];"
   ]
  },
  {
   "cell_type": "code",
   "execution_count": 20,
   "id": "84519345",
   "metadata": {},
   "outputs": [
    {
     "name": "stdout",
     "output_type": "stream",
     "text": [
      "[0.02 0.02 0.04 0.14 0.26 0.26 0.14 0.08 0.   0.04]\n",
      "[3.1  3.19 3.28 3.37 3.46 3.55 3.64 3.73 3.82 3.91 4.  ]\n",
      "[0.02 0.1  0.24 0.08 0.18 0.16 0.1  0.04 0.02 0.06]\n",
      "[6.6  6.84 7.08 7.32 7.56 7.8  8.04 8.28 8.52 8.76 9.  ]\n",
      "[0.02 0.04 0.06 0.04 0.16 0.14 0.12 0.2  0.14 0.08]\n",
      "[5.1  5.31 5.52 5.73 5.94 6.15 6.36 6.57 6.78 6.99 7.2 ]\n"
     ]
    },
    {
     "data": {
      "image/png": "[encoded data removed]",
      "text/plain": [
       "<Figure size 432x288 with 1 Axes>"
      ]
     },
     "metadata": {
      "needs_background": "light"
     },
     "output_type": "display_data"
    }
   ],
   "source": [
    "#Flower A\n",
    "counts, bin_edges = np.histogram(flower_a['petal_length'], bins=10, density = True) \n",
    "pdf = counts/(sum(counts)) \n",
    "print(pdf); \n",
    "print(bin_edges) \n",
    "cdf = np.cumsum(pdf) \n",
    "plt.plot(bin_edges[1:],pdf) \n",
    "plt.plot(bin_edges[1:], cdf) \n",
    "\n",
    "#Flower b\n",
    "counts, bin_edges = np.histogram(flower_b['petal_length'], bins=10, density = True) \n",
    "pdf = counts/(sum(counts)) \n",
    "print(pdf); \n",
    "print(bin_edges) \n",
    "cdf = np.cumsum(pdf) \n",
    "plt.plot(bin_edges[1:],pdf) \n",
    "plt.plot(bin_edges[1:], cdf)\n",
    "\n",
    "#Flower c\n",
    "counts, bin_edges = np.histogram(flower_c['petal_length'], bins=10,  density = True)\n",
    "pdf = counts/(sum(counts))\n",
    "print(pdf);\n",
    "print(bin_edges)\n",
    "cdf = np.cumsum(pdf)\n",
    "plt.plot(bin_edges[1:],pdf)\n",
    "plt.plot(bin_edges[1:], cdf)\n",
    "\n",
    "plt.title('PDF and CDF For irispj')\n",
    "plt.xlabel(\"Petal length\")\n",
    "plt.gca().legend(('Pdf','Cdf'))\n",
    "plt.ylabel(\"Percentage\")\n",
    "\n",
    "plt.show();"
   ]
  },
  {
   "cell_type": "markdown",
   "id": "b35ee5fd",
   "metadata": {},
   "source": [
    "NB: lest focus on CDF for now, we would explore PDF in the next project series"
   ]
  },
  {
   "cell_type": "markdown",
   "id": "bdef5bf6",
   "metadata": {},
   "source": [
    "Observation:\n",
    "    <li> CDF tells us here: <br>flower_a will be 100% accurate in prediction all the time using petal length feature only <br>flower_b will be 70% accurate in prediction all the time using petal length feature only <br>flower_c will be 76% accurate in prediction all the time using petal length feature only"
   ]
  },
  {
   "cell_type": "code",
   "execution_count": 21,
   "id": "ce64be57",
   "metadata": {},
   "outputs": [],
   "source": [
    "#Query to know the actual value of accuracy (quick calculation)"
   ]
  },
  {
   "cell_type": "markdown",
   "id": "6735c42f",
   "metadata": {},
   "source": [
    "#### Flower A"
   ]
  },
  {
   "cell_type": "code",
   "execution_count": 22,
   "id": "bebda335",
   "metadata": {},
   "outputs": [
    {
     "data": {
      "text/plain": [
       "4.0"
      ]
     },
     "execution_count": 22,
     "metadata": {},
     "output_type": "execute_result"
    }
   ],
   "source": [
    "#what is the maximum length of Petal_Length of flower a?\n",
    "df[(df['petal_length']<= 4.0) & (df['flower_breed'] == 'Flower A')]['petal_length'].max()"
   ]
  },
  {
   "cell_type": "code",
   "execution_count": 23,
   "id": "2f291176",
   "metadata": {},
   "outputs": [
    {
     "data": {
      "text/plain": [
       "50"
      ]
     },
     "execution_count": 23,
     "metadata": {},
     "output_type": "execute_result"
    }
   ],
   "source": [
    "#query petal length less than 4 - Flower A\n",
    "df[df['petal_length'] <= 4]['petal_length'].count()"
   ]
  },
  {
   "cell_type": "code",
   "execution_count": 24,
   "id": "e2cbccc1",
   "metadata": {},
   "outputs": [
    {
     "data": {
      "text/plain": [
       "100.0"
      ]
     },
     "execution_count": 24,
     "metadata": {},
     "output_type": "execute_result"
    }
   ],
   "source": [
    "50/50 * 100"
   ]
  },
  {
   "cell_type": "markdown",
   "id": "6379273f",
   "metadata": {},
   "source": [
    "#### Flower B"
   ]
  },
  {
   "cell_type": "code",
   "execution_count": 25,
   "id": "f1ea3c84",
   "metadata": {},
   "outputs": [
    {
     "data": {
      "text/plain": [
       "6.6"
      ]
     },
     "execution_count": 25,
     "metadata": {},
     "output_type": "execute_result"
    }
   ],
   "source": [
    "#what is the minimum length of Petal_Length of flower b?\n",
    "df[(df['petal_length']> 6.5) & (df['flower_breed'] == 'Flower B')]['petal_length'].min()"
   ]
  },
  {
   "cell_type": "code",
   "execution_count": 26,
   "id": "38b9c6d3",
   "metadata": {},
   "outputs": [
    {
     "data": {
      "text/plain": [
       "9.0"
      ]
     },
     "execution_count": 26,
     "metadata": {},
     "output_type": "execute_result"
    }
   ],
   "source": [
    "#what is the maximum length of Petal_Length of flower b?\n",
    "df[(df['petal_length']> 6.5) & (df['flower_breed'] == 'Flower B')]['petal_length'].max()"
   ]
  },
  {
   "cell_type": "code",
   "execution_count": 27,
   "id": "f14da013",
   "metadata": {},
   "outputs": [
    {
     "data": {
      "text/plain": [
       "71"
      ]
     },
     "execution_count": 27,
     "metadata": {},
     "output_type": "execute_result"
    }
   ],
   "source": [
    "#query petal length greater than 5 & less than or equal to 7.2 - Flower B\n",
    "df[(df['petal_length']>= 6.6) & (df['petal_length'] <= 9)]['petal_length'].count()"
   ]
  },
  {
   "cell_type": "code",
   "execution_count": 28,
   "id": "829ce649",
   "metadata": {},
   "outputs": [
    {
     "data": {
      "text/plain": [
       "70.4225352112676"
      ]
     },
     "execution_count": 28,
     "metadata": {},
     "output_type": "execute_result"
    }
   ],
   "source": [
    "50/71 * 100"
   ]
  },
  {
   "cell_type": "markdown",
   "id": "71f88b64",
   "metadata": {},
   "source": [
    "#### Flower C"
   ]
  },
  {
   "cell_type": "code",
   "execution_count": 29,
   "id": "e6fd034f",
   "metadata": {},
   "outputs": [
    {
     "data": {
      "text/plain": [
       "5.1"
      ]
     },
     "execution_count": 29,
     "metadata": {},
     "output_type": "execute_result"
    }
   ],
   "source": [
    "#what is the minimum length of Petal_Length of flower c?\n",
    "df[(df['petal_length']> 5) & (df['flower_breed'] == 'Flower C')]['petal_length'].min()"
   ]
  },
  {
   "cell_type": "code",
   "execution_count": 30,
   "id": "af62939d",
   "metadata": {},
   "outputs": [
    {
     "data": {
      "text/plain": [
       "7.199999999999999"
      ]
     },
     "execution_count": 30,
     "metadata": {},
     "output_type": "execute_result"
    }
   ],
   "source": [
    "#what is the maximum length of Petal_Length of flower c?\n",
    "df[(df['petal_length']> 5) & (df['flower_breed'] == 'Flower C')]['petal_length'].max()"
   ]
  },
  {
   "cell_type": "code",
   "execution_count": 31,
   "id": "d4fabeb4",
   "metadata": {},
   "outputs": [
    {
     "data": {
      "text/plain": [
       "66"
      ]
     },
     "execution_count": 31,
     "metadata": {},
     "output_type": "execute_result"
    }
   ],
   "source": [
    "df[(df['petal_length']>= 5.1) & (df['petal_length'] <= 7.2)]['petal_length'].count()"
   ]
  },
  {
   "cell_type": "code",
   "execution_count": 32,
   "id": "d3c77361",
   "metadata": {},
   "outputs": [
    {
     "data": {
      "text/plain": [
       "75.75757575757575"
      ]
     },
     "execution_count": 32,
     "metadata": {},
     "output_type": "execute_result"
    }
   ],
   "source": [
    "50/66*100"
   ]
  },
  {
   "cell_type": "markdown",
   "id": "d213a0f2",
   "metadata": {},
   "source": [
    "Comment: since a single feature cant seperate flower_b from flower_c correctly, lets see the combination two or more features"
   ]
  },
  {
   "cell_type": "markdown",
   "id": "d196a7b4",
   "metadata": {},
   "source": [
    "### Bivariate Analysis - 2 variable analysis"
   ]
  },
  {
   "cell_type": "code",
   "execution_count": 33,
   "id": "e2c9ced2",
   "metadata": {},
   "outputs": [
    {
     "data": {
      "text/plain": [
       "<AxesSubplot:xlabel='sepal_length', ylabel='sepal_width'>"
      ]
     },
     "execution_count": 33,
     "metadata": {},
     "output_type": "execute_result"
    },
    {
     "data": {
      "image/png": "[encoded data removed]",
      "text/plain": [
       "<Figure size 432x288 with 1 Axes>"
      ]
     },
     "metadata": {
      "needs_background": "light"
     },
     "output_type": "display_data"
    }
   ],
   "source": [
    "#plot sepal length against sepal width\n",
    "sns.scatterplot(data =df, x='sepal_length', y='sepal_width', hue='flower_breed', marker='o', palette=['green','orange','purple'])"
   ]
  },
  {
   "cell_type": "code",
   "execution_count": 34,
   "id": "0d3e9d65",
   "metadata": {},
   "outputs": [
    {
     "data": {
      "text/plain": [
       "-0.1175697841330021"
      ]
     },
     "execution_count": 34,
     "metadata": {},
     "output_type": "execute_result"
    }
   ],
   "source": [
    "#check correlation btw two variables\n",
    "df['sepal_length'].corr(df['sepal_width'])"
   ]
  },
  {
   "cell_type": "markdown",
   "id": "a5a1642d",
   "metadata": {},
   "source": [
    "#### Observations\n",
    "\n",
    "1. Using (Sepal_Length and Sepal_Width Features, we can distnguish flower_a flower from Other Classes i.e linearly separable.\n",
    "2. Seperate flower_b from flower_c is much harder as they have overlap i.e is not linearly separable i.e using two features cant separate other classes.\n",
    "34. There is a weak negative corelation between the variables i.e an sepal length increases sepal width decrease (weak pattern)"
   ]
  },
  {
   "cell_type": "code",
   "execution_count": 35,
   "id": "6bcc70b1",
   "metadata": {
    "scrolled": true
   },
   "outputs": [
    {
     "data": {
      "text/plain": [
       "<AxesSubplot:xlabel='petal_length', ylabel='petal_width'>"
      ]
     },
     "execution_count": 35,
     "metadata": {},
     "output_type": "execute_result"
    },
    {
     "data": {
      "image/png": "[encoded data removed]",
      "text/plain": [
       "<Figure size 432x288 with 1 Axes>"
      ]
     },
     "metadata": {
      "needs_background": "light"
     },
     "output_type": "display_data"
    }
   ],
   "source": [
    "#plot petal length against petal width\n",
    "sns.scatterplot(data =df, x='petal_length', y='petal_width', hue='flower_breed', marker='o', palette=['green','orange','purple'])"
   ]
  },
  {
   "cell_type": "code",
   "execution_count": 36,
   "id": "7f403be7",
   "metadata": {},
   "outputs": [
    {
     "data": {
      "text/plain": [
       "0.962865431402797"
      ]
     },
     "execution_count": 36,
     "metadata": {},
     "output_type": "execute_result"
    }
   ],
   "source": [
    "df['petal_length'].corr(df['petal_width'])"
   ]
  },
  {
   "cell_type": "markdown",
   "id": "8afa570c",
   "metadata": {},
   "source": [
    "#### Observation on this chart compare to others (assignment)\n",
    "\n",
    "1. As Petal length increases, the Petal width increases; its a positive corelation (strong pattern)\n",
    "2. flower_a is very separable\n",
    "3. flower_b & c are better seperable unlike using petal length feature along i.e the interction petal & width will help to classify the flower breed more better"
   ]
  },
  {
   "cell_type": "markdown",
   "id": "77957550",
   "metadata": {},
   "source": [
    "## Multivariate Analysis"
   ]
  },
  {
   "cell_type": "code",
   "execution_count": null,
   "id": "80fac740",
   "metadata": {},
   "outputs": [],
   "source": [
    "sns.pairplot(df, hue='flower_breed', palette=['green','orange','purple'])"
   ]
  },
  {
   "cell_type": "markdown",
   "id": "9d7db8d4",
   "metadata": {},
   "source": [
    "   -  look carefully, We have 16 charts (4 PDF or Histogram chart(diagonal), 12 Scattered Plot) & 6 Unique plot\n",
    "   -  4C2 = 6 different plots i.e i can only have 6 different plots or combinations (the rest are the same just axis are swapped; e.g petal length(x-axis) & petal width (y-axis) and petal length(y-axis) & petal width (x-axis)) \n",
    "   - 4 : number of features in any axis (x or y) and 2 : no of plot combination that exist. \n",
    "   \n",
    "   In summary 6 plots are unique for analysis\n"
   ]
  },
  {
   "cell_type": "markdown",
   "id": "51ff8631",
   "metadata": {},
   "source": [
    "#### Observations:\n",
    "\n",
    "    1. Petal length and Petal width can easily seperate flower_a than Sepal Length and Sepal width\n",
    "    2. We can build a very simple model by drawing a simple boundary box using ifelse statement and boolean operator\n",
    "    (a basic feature engineering) \n",
    "    3. Without model interpretability, we know clearly here that Petal length and Petal width are the most important feature"
   ]
  },
  {
   "cell_type": "markdown",
   "id": "75cb4f3e",
   "metadata": {},
   "source": [
    "# STEP 6: Feature Engineering "
   ]
  },
  {
   "cell_type": "code",
   "execution_count": null,
   "id": "41b01174",
   "metadata": {},
   "outputs": [],
   "source": [
    "#a fxn to help separate the flower breed\n",
    "def FeatEng(data):\n",
    "    if data.petal_length <=4:\n",
    "        return 'flower_a'\n",
    "    elif data.petal_length >4 and data.petal_length <=6.8:\n",
    "        return 'flower_c'\n",
    "    else:\n",
    "        return 'flower_b'\n",
    "df['LikeSep'] = df.apply(lambda data:FeatEng(data), axis=1)"
   ]
  },
  {
   "cell_type": "code",
   "execution_count": null,
   "id": "2ade3503",
   "metadata": {},
   "outputs": [],
   "source": [
    "#from index 100 -109 - just a quick look\n",
    "df[100:110]"
   ]
  },
  {
   "cell_type": "markdown",
   "id": "2761441c",
   "metadata": {},
   "source": [
    "<b>Observation:<b>\n",
    "        Look carefully the target column & the newly engineered column(like sep); its seems like we have almost classified the flower breed without training a model: the power of feature engineering"
   ]
  },
  {
   "cell_type": "code",
   "execution_count": null,
   "id": "e1019255",
   "metadata": {},
   "outputs": [],
   "source": [
    "#replace categorical to numerical value for training purpose.\n",
    "df['flower_breed'] = df['flower_breed'].map({'Flower C': 3, 'Flower A': 1, 'Flower B': 2})"
   ]
  },
  {
   "cell_type": "code",
   "execution_count": null,
   "id": "9879fdb3",
   "metadata": {},
   "outputs": [],
   "source": [
    "#encode newly generated columns to numerical value - norminal enconding is used since classes has no ranking\n",
    "df =pd.get_dummies(data=df, columns=['LikeSep'])"
   ]
  },
  {
   "cell_type": "code",
   "execution_count": null,
   "id": "7e45e754",
   "metadata": {},
   "outputs": [],
   "source": [
    "#from index 50 - 55- just a quick look on the tranmsformation\n",
    "df[50:55]"
   ]
  },
  {
   "cell_type": "code",
   "execution_count": null,
   "id": "1aec90b1",
   "metadata": {},
   "outputs": [],
   "source": [
    "#drop LikeSep_flower_c to avoid noise in the modelling\n",
    "df= df.drop(['LikeSep_flower_c'], axis=1)"
   ]
  },
  {
   "cell_type": "code",
   "execution_count": null,
   "id": "2ba530ff",
   "metadata": {},
   "outputs": [],
   "source": [
    "#last five - a quick look\n",
    "df.tail()"
   ]
  },
  {
   "cell_type": "markdown",
   "id": "5ef825bc",
   "metadata": {},
   "source": [
    "# STEP 7:  Modelling "
   ]
  },
  {
   "cell_type": "code",
   "execution_count": null,
   "id": "9e89bcc7",
   "metadata": {},
   "outputs": [],
   "source": [
    "#separate the input from the output- x takes the input and y takes the output\n",
    "x =df.drop(['flower_breed'], axis =1)\n",
    "y =df.flower_breed"
   ]
  },
  {
   "cell_type": "code",
   "execution_count": null,
   "id": "bb1d6f9d",
   "metadata": {},
   "outputs": [],
   "source": [
    "x"
   ]
  },
  {
   "cell_type": "code",
   "execution_count": null,
   "id": "e7b9af77",
   "metadata": {},
   "outputs": [],
   "source": [
    "y"
   ]
  },
  {
   "cell_type": "code",
   "execution_count": null,
   "id": "c21c08e6",
   "metadata": {},
   "outputs": [],
   "source": [
    "#split into 80 -20: 80 for training, 20 for evaluating the model performace\n",
    "x_train, x_test, y_train, y_test=train_test_split(x,y,test_size=0.2, random_state=1)"
   ]
  },
  {
   "cell_type": "code",
   "execution_count": null,
   "id": "4b6e9213",
   "metadata": {},
   "outputs": [],
   "source": [
    "x_train"
   ]
  },
  {
   "cell_type": "code",
   "execution_count": null,
   "id": "79ebd096",
   "metadata": {},
   "outputs": [],
   "source": [
    "y_train"
   ]
  },
  {
   "cell_type": "code",
   "execution_count": null,
   "id": "10f002cc",
   "metadata": {
    "scrolled": true
   },
   "outputs": [],
   "source": [
    "x_test"
   ]
  },
  {
   "cell_type": "code",
   "execution_count": null,
   "id": "f0171f9e",
   "metadata": {},
   "outputs": [],
   "source": [
    "y_test"
   ]
  },
  {
   "cell_type": "code",
   "execution_count": null,
   "id": "1d3d9696",
   "metadata": {},
   "outputs": [],
   "source": [
    "#Instantiate an algorithm to learn from the data \n",
    "mod_dt = DecisionTreeClassifier(random_state = 1)"
   ]
  },
  {
   "cell_type": "code",
   "execution_count": null,
   "id": "3f686914",
   "metadata": {},
   "outputs": [],
   "source": [
    "#training/learning from input & output of 80%\n",
    "model = mod_dt.fit(x_train,y_train)"
   ]
  },
  {
   "cell_type": "code",
   "execution_count": null,
   "id": "21cea489",
   "metadata": {},
   "outputs": [],
   "source": [
    "# save the trained model to disk\n",
    "filename = 'trained_model.sav'\n",
    "pickle.dump(model, open(filename, 'wb'))"
   ]
  },
  {
   "cell_type": "code",
   "execution_count": null,
   "id": "64862d4a",
   "metadata": {},
   "outputs": [],
   "source": [
    "#predict on 20%\n",
    "prediction=model.predict(x_test)"
   ]
  },
  {
   "cell_type": "code",
   "execution_count": null,
   "id": "474b294d",
   "metadata": {},
   "outputs": [],
   "source": [
    "#check accuracy of test set\n",
    "accuracy = accuracy_score(y_test, prediction)"
   ]
  },
  {
   "cell_type": "code",
   "execution_count": null,
   "id": "e64c72f3",
   "metadata": {},
   "outputs": [],
   "source": [
    "accuracy"
   ]
  },
  {
   "cell_type": "markdown",
   "id": "2a305a89",
   "metadata": {},
   "source": [
    "- Note: To avoid Accuracy paradox, Accuracy is not enough to evaluate a model performance:\n",
    "- Why? the overall accuracy is influenced by flower_a(100%). accuracy score is the average score computed for all classes"
   ]
  },
  {
   "cell_type": "code",
   "execution_count": null,
   "id": "88dc4678",
   "metadata": {},
   "outputs": [],
   "source": [
    "confusion_matrix = pd.crosstab(y_test, prediction, rownames=['Actual'], colnames=['Predicted'])\n",
    "print(confusion_matrix)"
   ]
  },
  {
   "cell_type": "markdown",
   "id": "f9072944",
   "metadata": {},
   "source": [
    "<b> Observation <b><br>\n",
    "    - with confusion matrix, we have more clearity on the model performance compare to accuracy.<br>\n",
    "    - for flower_a(1) - our model is 100% accurate: out of 11 random classes, all were predicted correctly<br>\n",
    "    - for flower_b(2) - our model is 99.8% accurate: out of 7 random classes, 6 were predicted correctly & 1 was misclassified as flower_c<br>\n",
    "    - for flower_c(3) - our model is 100% accurate: out of 12 random classes, all were predicted correctly"
   ]
  },
  {
   "cell_type": "markdown",
   "id": "0718b433",
   "metadata": {},
   "source": [
    "#### Model Explainability & Interpretability;\n",
    "    we would limit this part to feature importance only, in the next series, we would explore more technical concept in explaining & interpreting model performance"
   ]
  },
  {
   "cell_type": "code",
   "execution_count": null,
   "id": "22832e83",
   "metadata": {},
   "outputs": [],
   "source": [
    "#plot feature importance \n",
    "feature_importance_df = pd.DataFrame(model.feature_importances_, columns=['importance'])\n",
    "feature_importance_df['feature'] = x_train.columns\n",
    "plt.figure(figsize=(20, 12));\n",
    "sns.barplot(x=\"importance\", y=\"feature\", data=feature_importance_df.sort_values(by = ['importance'], ascending = False).head(50))"
   ]
  },
  {
   "cell_type": "markdown",
   "id": "4c21f99a",
   "metadata": {},
   "source": [
    "<b>Observation:<b>\n",
    " -petal width was the best feature in separating the classes, then petal_length take the next impact (of courses we have seen this ahead before modelling"
   ]
  },
  {
   "cell_type": "markdown",
   "id": "3f4bf290",
   "metadata": {},
   "source": [
    "Recommendation:\n",
    "    <li> Since flower_a & c are 100% accurate in prediction, employees are to give attention/supervise flower_c inorder reduce their workload\n",
    "    <li> from statistical analysis; we confirmed that flower_a needs no employee attention, the model(robot) can harvest flower_a without any assistance\n",
    "    <li> though we had an 100% accuarcy in our machine learning part, for flower_c, but statistically we struggle a bit to isolate it from flower_b, its advisable that employees gives a bit of attention to flower_c as well i.e after the machine has finished the harvest, flower_b & c needs to be confirmed before putting them out for sales.\n",
    "    In summary, more attention to to flower_b, less attention to flower_c & no attention to flower_a "
   ]
  },
  {
   "cell_type": "markdown",
   "id": "28dd41ea",
   "metadata": {},
   "source": [
    "    Hint: the obersvation generated was for learning purposes, try to focus on what matter to the business as your observation then make this your first ML project. keep this in a project folder, as we 'll call back on this project for deployment & presentation puporses."
   ]
  },
  {
   "cell_type": "markdown",
   "id": "bac9b296",
   "metadata": {},
   "source": [
    "If any question arises why practicing: feel free to reach out to ahmed.adegunle@outlook.com"
   ]
  }
 ],
 "metadata": {
  "kernelspec": {
   "display_name": "Python 3 (ipykernel)",
   "language": "python",
   "name": "python3"
  },
  "language_info": {
   "codemirror_mode": {
    "name": "ipython",
    "version": 3
   },
   "file_extension": ".py",
   "mimetype": "text/x-python",
   "name": "python",
   "nbconvert_exporter": "python",
   "pygments_lexer": "ipython3",
   "version": "3.9.7"
  }
 },
 "nbformat": 4,
 "nbformat_minor": 5
}
